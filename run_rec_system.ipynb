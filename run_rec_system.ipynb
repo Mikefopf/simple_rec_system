{
 "cells": [
  {
   "cell_type": "code",
   "execution_count": 1,
   "id": "759513e9",
   "metadata": {},
   "outputs": [],
   "source": [
    "import warnings\n",
    "import pandas as pd\n",
    "import numpy as np\n",
    "import implicit\n",
    "\n",
    "from src.utils import get_score_top, get_score_model, aggregate_users, create_sparse_matrix\n",
    "\n",
    "warnings.filterwarnings('ignore')"
   ]
  },
  {
   "cell_type": "markdown",
   "id": "842c5088",
   "metadata": {},
   "source": [
    "Будем использовать Collaborative filtering, поэтому понадобятся нам только транзакции. Посмотрим на них"
   ]
  },
  {
   "cell_type": "code",
   "execution_count": 2,
   "id": "15f50c9b",
   "metadata": {},
   "outputs": [
    {
     "data": {
      "text/html": [
       "<div>\n",
       "<style scoped>\n",
       "    .dataframe tbody tr th:only-of-type {\n",
       "        vertical-align: middle;\n",
       "    }\n",
       "\n",
       "    .dataframe tbody tr th {\n",
       "        vertical-align: top;\n",
       "    }\n",
       "\n",
       "    .dataframe thead th {\n",
       "        text-align: right;\n",
       "    }\n",
       "</style>\n",
       "<table border=\"1\" class=\"dataframe\">\n",
       "  <thead>\n",
       "    <tr style=\"text-align: right;\">\n",
       "      <th></th>\n",
       "      <th>row</th>\n",
       "      <th>col</th>\n",
       "      <th>data</th>\n",
       "    </tr>\n",
       "  </thead>\n",
       "  <tbody>\n",
       "    <tr>\n",
       "      <th>0</th>\n",
       "      <td>0</td>\n",
       "      <td>3568</td>\n",
       "      <td>1.0</td>\n",
       "    </tr>\n",
       "    <tr>\n",
       "      <th>1</th>\n",
       "      <td>0</td>\n",
       "      <td>3827</td>\n",
       "      <td>1.0</td>\n",
       "    </tr>\n",
       "    <tr>\n",
       "      <th>2</th>\n",
       "      <td>0</td>\n",
       "      <td>4844</td>\n",
       "      <td>1.0</td>\n",
       "    </tr>\n",
       "    <tr>\n",
       "      <th>3</th>\n",
       "      <td>0</td>\n",
       "      <td>5734</td>\n",
       "      <td>1.0</td>\n",
       "    </tr>\n",
       "    <tr>\n",
       "      <th>4</th>\n",
       "      <td>0</td>\n",
       "      <td>6518</td>\n",
       "      <td>1.0</td>\n",
       "    </tr>\n",
       "  </tbody>\n",
       "</table>\n",
       "</div>"
      ],
      "text/plain": [
       "   row   col  data\n",
       "0    0  3568   1.0\n",
       "1    0  3827   1.0\n",
       "2    0  4844   1.0\n",
       "3    0  5734   1.0\n",
       "4    0  6518   1.0"
      ]
     },
     "execution_count": 2,
     "metadata": {},
     "output_type": "execute_result"
    }
   ],
   "source": [
    "interactions_df = pd.read_csv('interactions.csv')\n",
    "interactions_df.head()"
   ]
  },
  {
   "cell_type": "markdown",
   "id": "26f7cd56",
   "metadata": {},
   "source": [
    "Делим на train и test"
   ]
  },
  {
   "cell_type": "code",
   "execution_count": 3,
   "id": "54bc5ed3",
   "metadata": {},
   "outputs": [],
   "source": [
    "msk = np.random.rand(len(interactions_df)) < 0.8\n",
    "train = interactions_df[msk]\n",
    "test = interactions_df[~msk]"
   ]
  },
  {
   "cell_type": "markdown",
   "id": "f66e93c5",
   "metadata": {},
   "source": [
    "# Топовые элементы\n",
    "В качестве базовой модели используем топовые элементы в качестве предсказаний"
   ]
  },
  {
   "cell_type": "code",
   "execution_count": 4,
   "id": "e8398b82",
   "metadata": {},
   "outputs": [
    {
     "data": {
      "text/html": [
       "<div>\n",
       "<style scoped>\n",
       "    .dataframe tbody tr th:only-of-type {\n",
       "        vertical-align: middle;\n",
       "    }\n",
       "\n",
       "    .dataframe tbody tr th {\n",
       "        vertical-align: top;\n",
       "    }\n",
       "\n",
       "    .dataframe thead th {\n",
       "        text-align: right;\n",
       "    }\n",
       "</style>\n",
       "<table border=\"1\" class=\"dataframe\">\n",
       "  <thead>\n",
       "    <tr style=\"text-align: right;\">\n",
       "      <th></th>\n",
       "      <th>row</th>\n",
       "      <th>data</th>\n",
       "    </tr>\n",
       "    <tr>\n",
       "      <th>col</th>\n",
       "      <th></th>\n",
       "      <th></th>\n",
       "    </tr>\n",
       "  </thead>\n",
       "  <tbody>\n",
       "    <tr>\n",
       "      <th>8638</th>\n",
       "      <td>727</td>\n",
       "      <td>727</td>\n",
       "    </tr>\n",
       "    <tr>\n",
       "      <th>17955</th>\n",
       "      <td>722</td>\n",
       "      <td>722</td>\n",
       "    </tr>\n",
       "    <tr>\n",
       "      <th>5113</th>\n",
       "      <td>686</td>\n",
       "      <td>686</td>\n",
       "    </tr>\n",
       "    <tr>\n",
       "      <th>4657</th>\n",
       "      <td>646</td>\n",
       "      <td>646</td>\n",
       "    </tr>\n",
       "    <tr>\n",
       "      <th>10227</th>\n",
       "      <td>636</td>\n",
       "      <td>636</td>\n",
       "    </tr>\n",
       "    <tr>\n",
       "      <th>...</th>\n",
       "      <td>...</td>\n",
       "      <td>...</td>\n",
       "    </tr>\n",
       "    <tr>\n",
       "      <th>3796</th>\n",
       "      <td>1</td>\n",
       "      <td>1</td>\n",
       "    </tr>\n",
       "    <tr>\n",
       "      <th>15020</th>\n",
       "      <td>1</td>\n",
       "      <td>1</td>\n",
       "    </tr>\n",
       "    <tr>\n",
       "      <th>15027</th>\n",
       "      <td>1</td>\n",
       "      <td>1</td>\n",
       "    </tr>\n",
       "    <tr>\n",
       "      <th>15028</th>\n",
       "      <td>1</td>\n",
       "      <td>1</td>\n",
       "    </tr>\n",
       "    <tr>\n",
       "      <th>0</th>\n",
       "      <td>1</td>\n",
       "      <td>1</td>\n",
       "    </tr>\n",
       "  </tbody>\n",
       "</table>\n",
       "<p>14808 rows × 2 columns</p>\n",
       "</div>"
      ],
      "text/plain": [
       "       row  data\n",
       "col             \n",
       "8638   727   727\n",
       "17955  722   722\n",
       "5113   686   686\n",
       "4657   646   646\n",
       "10227  636   636\n",
       "...    ...   ...\n",
       "3796     1     1\n",
       "15020    1     1\n",
       "15027    1     1\n",
       "15028    1     1\n",
       "0        1     1\n",
       "\n",
       "[14808 rows x 2 columns]"
      ]
     },
     "execution_count": 4,
     "metadata": {},
     "output_type": "execute_result"
    }
   ],
   "source": [
    "tops = train.groupby('col').count().sort_values('data', ascending=False)\n",
    "tops"
   ]
  },
  {
   "cell_type": "code",
   "execution_count": 5,
   "id": "c4224e81",
   "metadata": {},
   "outputs": [
    {
     "data": {
      "text/plain": [
       "[8638,\n",
       " 17955,\n",
       " 5113,\n",
       " 4657,\n",
       " 10227,\n",
       " 10466,\n",
       " 197,\n",
       " 12469,\n",
       " 8982,\n",
       " 3922,\n",
       " 6289,\n",
       " 4361,\n",
       " 10067,\n",
       " 5297,\n",
       " 3806,\n",
       " 4634,\n",
       " 2301,\n",
       " 7581,\n",
       " 8666,\n",
       " 5645,\n",
       " 3572,\n",
       " 3565,\n",
       " 4844,\n",
       " 187,\n",
       " 15892,\n",
       " 9461,\n",
       " 8481,\n",
       " 10068,\n",
       " 5562,\n",
       " 1212]"
      ]
     },
     "execution_count": 5,
     "metadata": {},
     "output_type": "execute_result"
    }
   ],
   "source": [
    "top_items = list(np.array(tops.index)[:30])\n",
    "top_items"
   ]
  },
  {
   "cell_type": "code",
   "execution_count": 6,
   "id": "6f2c3d1f",
   "metadata": {},
   "outputs": [],
   "source": [
    "aggregated_test = aggregate_users(test.values)\n",
    "aggregated_train = aggregate_users(train.values)"
   ]
  },
  {
   "cell_type": "code",
   "execution_count": 7,
   "id": "f5036463",
   "metadata": {},
   "outputs": [
    {
     "name": "stderr",
     "output_type": "stream",
     "text": [
      "100%|█████████████████████████████████| 20396/20396 [00:00<00:00, 116770.05it/s]\n"
     ]
    },
    {
     "data": {
      "text/plain": [
       "0.009302945166642224"
      ]
     },
     "execution_count": 7,
     "metadata": {},
     "output_type": "execute_result"
    }
   ],
   "source": [
    "get_score_top(aggregated_test, top_items)"
   ]
  },
  {
   "cell_type": "markdown",
   "id": "52aad9a1",
   "metadata": {},
   "source": [
    "Данное число важно, оно дает нам опору. Мы теперь понимаем движемся ли мы вперед"
   ]
  },
  {
   "cell_type": "markdown",
   "id": "1d3c351b",
   "metadata": {},
   "source": [
    "# ML методы\n",
    "Для оставшихся методов нам нужно посчитать разреженную матрицу. Матрицу размером n_users * n_items. \n",
    "Где на пересечении пользователя и товара стоит 1 если он его купил и 0 иначе"
   ]
  },
  {
   "cell_type": "code",
   "execution_count": 8,
   "id": "95dd73f8",
   "metadata": {},
   "outputs": [],
   "source": [
    "X_sparse = create_sparse_matrix(30910, 18494, aggregated_train)"
   ]
  },
  {
   "cell_type": "code",
   "execution_count": 9,
   "id": "214dfc02",
   "metadata": {},
   "outputs": [
    {
     "data": {
      "text/plain": [
       "(30910, 18495)"
      ]
     },
     "execution_count": 9,
     "metadata": {},
     "output_type": "execute_result"
    }
   ],
   "source": [
    "X_sparse.shape"
   ]
  },
  {
   "cell_type": "markdown",
   "id": "d5d8aa5b",
   "metadata": {},
   "source": [
    "## Метод ALS \n",
    "Он использует разложение разреженной матрицы на матрицу объектов и пользователей. Далее фиксируя одну при помощи наименьших квадратов приближает другую, далее наоборот, и так несколько итераций"
   ]
  },
  {
   "cell_type": "code",
   "execution_count": 10,
   "id": "ca630c6d",
   "metadata": {},
   "outputs": [
    {
     "data": {
      "application/vnd.jupyter.widget-view+json": {
       "model_id": "ac70ccf30413486aba7d5ed14ba60d9f",
       "version_major": 2,
       "version_minor": 0
      },
      "text/plain": [
       "  0%|          | 0/16 [00:00<?, ?it/s]"
      ]
     },
     "metadata": {},
     "output_type": "display_data"
    }
   ],
   "source": [
    "model = implicit.als.AlternatingLeastSquares(factors=64, regularization=0.0, iterations=16)\n",
    "model.fit(X_sparse)"
   ]
  },
  {
   "cell_type": "code",
   "execution_count": 11,
   "id": "cc45b8d5",
   "metadata": {},
   "outputs": [
    {
     "name": "stderr",
     "output_type": "stream",
     "text": [
      "100%|████████████████████████████████████| 20396/20396 [00:31<00:00, 644.61it/s]\n"
     ]
    },
    {
     "data": {
      "text/plain": [
       "0.023094831920377402"
      ]
     },
     "execution_count": 11,
     "metadata": {},
     "output_type": "execute_result"
    }
   ],
   "source": [
    "get_score_model(aggregated_test, aggregated_train, model, 18494)"
   ]
  },
  {
   "cell_type": "markdown",
   "id": "44da677b",
   "metadata": {},
   "source": [
    "Как видим, мы превзошли базовый алгоритм предсказания только топовых товаров"
   ]
  },
  {
   "cell_type": "markdown",
   "id": "3afeaf94",
   "metadata": {},
   "source": [
    "## Метод Cosine recommender\n",
    "Он предсказывает покупки пытаясь по ближайшим по косинусному расстоянию векторов K пользователям предсказать покупки целевого"
   ]
  },
  {
   "cell_type": "code",
   "execution_count": 18,
   "id": "c1bdc136",
   "metadata": {},
   "outputs": [
    {
     "data": {
      "application/vnd.jupyter.widget-view+json": {
       "model_id": "23107798292143398bef68e5ab61f982",
       "version_major": 2,
       "version_minor": 0
      },
      "text/plain": [
       "  0%|          | 0/18495 [00:00<?, ?it/s]"
      ]
     },
     "metadata": {},
     "output_type": "display_data"
    }
   ],
   "source": [
    "model = implicit.nearest_neighbours.CosineRecommender(K=3)\n",
    "model.fit(X_sparse)"
   ]
  },
  {
   "cell_type": "code",
   "execution_count": 19,
   "id": "bc69c4ac",
   "metadata": {},
   "outputs": [
    {
     "name": "stderr",
     "output_type": "stream",
     "text": [
      "100%|███████████████████████████████████| 20396/20396 [00:03<00:00, 5128.99it/s]\n"
     ]
    },
    {
     "data": {
      "text/plain": [
       "0.027209355427069194"
      ]
     },
     "execution_count": 19,
     "metadata": {},
     "output_type": "execute_result"
    }
   ],
   "source": [
    "get_score_model(aggregated_test, aggregated_train, model, 18494)"
   ]
  },
  {
   "cell_type": "markdown",
   "id": "9847fd6f",
   "metadata": {},
   "source": [
    "Метод превзошел и ALS и тем более базовый алгоритм"
   ]
  }
 ],
 "metadata": {
  "kernelspec": {
   "display_name": "Python 3 (ipykernel)",
   "language": "python",
   "name": "python3"
  },
  "language_info": {
   "codemirror_mode": {
    "name": "ipython",
    "version": 3
   },
   "file_extension": ".py",
   "mimetype": "text/x-python",
   "name": "python",
   "nbconvert_exporter": "python",
   "pygments_lexer": "ipython3",
   "version": "3.8.8"
  }
 },
 "nbformat": 4,
 "nbformat_minor": 5
}
