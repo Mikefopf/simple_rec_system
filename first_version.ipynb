{
 "cells": [
  {
   "cell_type": "code",
   "execution_count": 1,
   "id": "5f43b0a7",
   "metadata": {},
   "outputs": [],
   "source": [
    "import pandas as pd\n",
    "import numpy as np\n",
    "import json\n",
    "from scipy import sparse as sp\n",
    "import implicit\n",
    "from tqdm import tqdm"
   ]
  },
  {
   "cell_type": "code",
   "execution_count": 2,
   "id": "9309ebb5",
   "metadata": {},
   "outputs": [],
   "source": [
    "interactions_df = pd.read_csv('interactions.csv')"
   ]
  },
  {
   "cell_type": "code",
   "execution_count": 3,
   "id": "36595281",
   "metadata": {},
   "outputs": [],
   "source": [
    "def average_precision(actual, recommended, k=30):\n",
    "    ap_sum = 0\n",
    "    hits = 0\n",
    "    for i in range(k):\n",
    "        product_id = recommended[i] if i < len(recommended) else None\n",
    "        if product_id is not None and product_id in actual:\n",
    "            hits += 1\n",
    "            ap_sum += hits / (i + 1)\n",
    "    return ap_sum / k\n",
    "\n",
    "\n",
    "def normalized_average_precision(actual, recommended, k=30):\n",
    "    actual = set(actual)\n",
    "    if len(actual) == 0:\n",
    "        return 0.0\n",
    "\n",
    "    ap = average_precision(actual, recommended, k=k)\n",
    "    ap_ideal = average_precision(actual, list(actual)[:k], k=k)\n",
    "    return ap / ap_ideal"
   ]
  },
  {
   "cell_type": "code",
   "execution_count": 4,
   "id": "076b8e6b",
   "metadata": {},
   "outputs": [],
   "source": [
    "def make_coo_row(value):\n",
    "    values = [1.0 for _ in value]\n",
    "    return sp.coo_matrix(\n",
    "        (np.array(values).astype(np.float32), ([0] * len(value), value)), shape=(1, 18495),\n",
    "    )"
   ]
  },
  {
   "cell_type": "code",
   "execution_count": 5,
   "id": "246287e4",
   "metadata": {},
   "outputs": [
    {
     "data": {
      "text/html": [
       "<div>\n",
       "<style scoped>\n",
       "    .dataframe tbody tr th:only-of-type {\n",
       "        vertical-align: middle;\n",
       "    }\n",
       "\n",
       "    .dataframe tbody tr th {\n",
       "        vertical-align: top;\n",
       "    }\n",
       "\n",
       "    .dataframe thead th {\n",
       "        text-align: right;\n",
       "    }\n",
       "</style>\n",
       "<table border=\"1\" class=\"dataframe\">\n",
       "  <thead>\n",
       "    <tr style=\"text-align: right;\">\n",
       "      <th></th>\n",
       "      <th>row</th>\n",
       "      <th>col</th>\n",
       "      <th>data</th>\n",
       "    </tr>\n",
       "  </thead>\n",
       "  <tbody>\n",
       "    <tr>\n",
       "      <th>0</th>\n",
       "      <td>0</td>\n",
       "      <td>3568</td>\n",
       "      <td>1.0</td>\n",
       "    </tr>\n",
       "    <tr>\n",
       "      <th>1</th>\n",
       "      <td>0</td>\n",
       "      <td>3827</td>\n",
       "      <td>1.0</td>\n",
       "    </tr>\n",
       "    <tr>\n",
       "      <th>2</th>\n",
       "      <td>0</td>\n",
       "      <td>4844</td>\n",
       "      <td>1.0</td>\n",
       "    </tr>\n",
       "    <tr>\n",
       "      <th>3</th>\n",
       "      <td>0</td>\n",
       "      <td>5734</td>\n",
       "      <td>1.0</td>\n",
       "    </tr>\n",
       "    <tr>\n",
       "      <th>4</th>\n",
       "      <td>0</td>\n",
       "      <td>6518</td>\n",
       "      <td>1.0</td>\n",
       "    </tr>\n",
       "  </tbody>\n",
       "</table>\n",
       "</div>"
      ],
      "text/plain": [
       "   row   col  data\n",
       "0    0  3568   1.0\n",
       "1    0  3827   1.0\n",
       "2    0  4844   1.0\n",
       "3    0  5734   1.0\n",
       "4    0  6518   1.0"
      ]
     },
     "execution_count": 5,
     "metadata": {},
     "output_type": "execute_result"
    }
   ],
   "source": [
    "interactions_df.head()"
   ]
  },
  {
   "cell_type": "code",
   "execution_count": 11,
   "id": "b9e0315c",
   "metadata": {},
   "outputs": [
    {
     "data": {
      "text/html": [
       "<div>\n",
       "<style scoped>\n",
       "    .dataframe tbody tr th:only-of-type {\n",
       "        vertical-align: middle;\n",
       "    }\n",
       "\n",
       "    .dataframe tbody tr th {\n",
       "        vertical-align: top;\n",
       "    }\n",
       "\n",
       "    .dataframe thead th {\n",
       "        text-align: right;\n",
       "    }\n",
       "</style>\n",
       "<table border=\"1\" class=\"dataframe\">\n",
       "  <thead>\n",
       "    <tr style=\"text-align: right;\">\n",
       "      <th></th>\n",
       "      <th>row</th>\n",
       "      <th>data</th>\n",
       "    </tr>\n",
       "    <tr>\n",
       "      <th>col</th>\n",
       "      <th></th>\n",
       "      <th></th>\n",
       "    </tr>\n",
       "  </thead>\n",
       "  <tbody>\n",
       "    <tr>\n",
       "      <th>8638</th>\n",
       "      <td>722</td>\n",
       "      <td>722</td>\n",
       "    </tr>\n",
       "    <tr>\n",
       "      <th>17955</th>\n",
       "      <td>709</td>\n",
       "      <td>709</td>\n",
       "    </tr>\n",
       "    <tr>\n",
       "      <th>5113</th>\n",
       "      <td>698</td>\n",
       "      <td>698</td>\n",
       "    </tr>\n",
       "    <tr>\n",
       "      <th>10227</th>\n",
       "      <td>651</td>\n",
       "      <td>651</td>\n",
       "    </tr>\n",
       "    <tr>\n",
       "      <th>8982</th>\n",
       "      <td>640</td>\n",
       "      <td>640</td>\n",
       "    </tr>\n",
       "    <tr>\n",
       "      <th>...</th>\n",
       "      <td>...</td>\n",
       "      <td>...</td>\n",
       "    </tr>\n",
       "    <tr>\n",
       "      <th>14955</th>\n",
       "      <td>1</td>\n",
       "      <td>1</td>\n",
       "    </tr>\n",
       "    <tr>\n",
       "      <th>4173</th>\n",
       "      <td>1</td>\n",
       "      <td>1</td>\n",
       "    </tr>\n",
       "    <tr>\n",
       "      <th>4150</th>\n",
       "      <td>1</td>\n",
       "      <td>1</td>\n",
       "    </tr>\n",
       "    <tr>\n",
       "      <th>14965</th>\n",
       "      <td>1</td>\n",
       "      <td>1</td>\n",
       "    </tr>\n",
       "    <tr>\n",
       "      <th>0</th>\n",
       "      <td>1</td>\n",
       "      <td>1</td>\n",
       "    </tr>\n",
       "  </tbody>\n",
       "</table>\n",
       "<p>14812 rows × 2 columns</p>\n",
       "</div>"
      ],
      "text/plain": [
       "       row  data\n",
       "col             \n",
       "8638   722   722\n",
       "17955  709   709\n",
       "5113   698   698\n",
       "10227  651   651\n",
       "8982   640   640\n",
       "...    ...   ...\n",
       "14955    1     1\n",
       "4173     1     1\n",
       "4150     1     1\n",
       "14965    1     1\n",
       "0        1     1\n",
       "\n",
       "[14812 rows x 2 columns]"
      ]
     },
     "execution_count": 11,
     "metadata": {},
     "output_type": "execute_result"
    }
   ],
   "source": [
    "tops = train.groupby('col').count().sort_values('data', ascending=False)\n",
    "tops"
   ]
  },
  {
   "cell_type": "code",
   "execution_count": 13,
   "id": "0787d98d",
   "metadata": {},
   "outputs": [
    {
     "data": {
      "text/plain": [
       "[8638,\n",
       " 17955,\n",
       " 5113,\n",
       " 10227,\n",
       " 8982,\n",
       " 197,\n",
       " 10466,\n",
       " 4657,\n",
       " 12469,\n",
       " 4361,\n",
       " 3922,\n",
       " 10067,\n",
       " 6289,\n",
       " 5297,\n",
       " 2301,\n",
       " 7581,\n",
       " 5645,\n",
       " 4634,\n",
       " 15892,\n",
       " 3806,\n",
       " 8666,\n",
       " 3565,\n",
       " 3572,\n",
       " 187,\n",
       " 9461,\n",
       " 4844,\n",
       " 5562,\n",
       " 1212,\n",
       " 8483,\n",
       " 8481]"
      ]
     },
     "execution_count": 13,
     "metadata": {},
     "output_type": "execute_result"
    }
   ],
   "source": [
    "top_items = list(np.array(tops.index)[:30])\n",
    "top_items"
   ]
  },
  {
   "cell_type": "code",
   "execution_count": 7,
   "id": "8a2c0f4b",
   "metadata": {},
   "outputs": [],
   "source": [
    "msk = np.random.rand(len(interactions_df)) < 0.8\n",
    "train = interactions_df[msk]\n",
    "test = interactions_df[~msk]"
   ]
  },
  {
   "cell_type": "code",
   "execution_count": 14,
   "id": "39e5edb3",
   "metadata": {},
   "outputs": [],
   "source": [
    "gt_items = {}\n",
    "for item in test.values:\n",
    "    if item[0] in gt_items:\n",
    "        gt_items[item[0]].append(item[1])\n",
    "    else:\n",
    "        gt_items[item[0]] = [item[1]]"
   ]
  },
  {
   "cell_type": "code",
   "execution_count": 16,
   "id": "8fb4e191",
   "metadata": {},
   "outputs": [
    {
     "data": {
      "text/plain": [
       "0.009042792326834397"
      ]
     },
     "execution_count": 16,
     "metadata": {},
     "output_type": "execute_result"
    }
   ],
   "source": [
    "scores = []\n",
    "for key, value in gt_items.items():\n",
    "    items = value\n",
    "    ap = normalized_average_precision(items, top_items)\n",
    "    scores.append(ap)\n",
    "np.mean(scores)    "
   ]
  },
  {
   "cell_type": "code",
   "execution_count": 21,
   "id": "42427504",
   "metadata": {},
   "outputs": [
    {
     "data": {
      "text/plain": [
       "<1x18495 sparse matrix of type '<class 'numpy.float32'>'\n",
       "\twith 5 stored elements in COOrdinate format>"
      ]
     },
     "execution_count": 21,
     "metadata": {},
     "output_type": "execute_result"
    }
   ],
   "source": [
    "rows = []\n",
    "gt_items = {}\n",
    "for item in train.values:\n",
    "    if item[0] in gt_items:\n",
    "        gt_items[item[0]].append(item[1])\n",
    "    else:\n",
    "        gt_items[item[0]] = [item[1]]\n",
    "for i in range(1, 30911):\n",
    "    rows.append(make_coo_row(gt_items.get(i, [])))\n",
    "rows[0]"
   ]
  },
  {
   "cell_type": "code",
   "execution_count": 22,
   "id": "a5b0196c",
   "metadata": {},
   "outputs": [],
   "source": [
    "X_sparse = sp.vstack(rows).tocsr()"
   ]
  },
  {
   "cell_type": "code",
   "execution_count": 23,
   "id": "562a6672",
   "metadata": {},
   "outputs": [
    {
     "data": {
      "text/plain": [
       "(30910, 18495)"
      ]
     },
     "execution_count": 23,
     "metadata": {},
     "output_type": "execute_result"
    }
   ],
   "source": [
    "X_sparse.shape"
   ]
  },
  {
   "cell_type": "code",
   "execution_count": 44,
   "id": "e65e405e",
   "metadata": {},
   "outputs": [
    {
     "data": {
      "application/vnd.jupyter.widget-view+json": {
       "model_id": "8799244ad65c4807b2c2c10f1c3666e8",
       "version_major": 2,
       "version_minor": 0
      },
      "text/plain": [
       "  0%|          | 0/8 [00:00<?, ?it/s]"
      ]
     },
     "metadata": {},
     "output_type": "display_data"
    }
   ],
   "source": [
    "model = implicit.als.AlternatingLeastSquares(factors=16, regularization=0.0, iterations=8)\n",
    "model.fit(X_sparse)"
   ]
  },
  {
   "cell_type": "code",
   "execution_count": 26,
   "id": "af503ab8",
   "metadata": {},
   "outputs": [],
   "source": [
    "rows = []\n",
    "gt_items_test = {}\n",
    "for item in test.values:\n",
    "    if item[0] in gt_items_test:\n",
    "        gt_items_test[item[0]].append(item[1])\n",
    "    else:\n",
    "        gt_items_test[item[0]] = [item[1]]\n",
    "for i in range(1, 30911):\n",
    "    rows.append(make_coo_row(gt_items_test.get(i, [])))\n",
    "    \n",
    "rows = []\n",
    "gt_items_train = {}\n",
    "for item in train.values:\n",
    "    if item[0] in gt_items_train:\n",
    "        gt_items_train[item[0]].append(item[1])\n",
    "    else:\n",
    "        gt_items_train[item[0]] = [item[1]]\n",
    "for i in range(1, 30911):\n",
    "    rows.append(make_coo_row(gt_items_train.get(i, [])))"
   ]
  },
  {
   "cell_type": "code",
   "execution_count": 46,
   "id": "8565b944",
   "metadata": {},
   "outputs": [
    {
     "name": "stderr",
     "output_type": "stream",
     "text": [
      "100%|███████████████████████████████████| 20363/20363 [00:15<00:00, 1350.70it/s]"
     ]
    },
    {
     "name": "stdout",
     "output_type": "stream",
     "text": [
      "0.015480355866375032\n"
     ]
    },
    {
     "name": "stderr",
     "output_type": "stream",
     "text": [
      "\n"
     ]
    }
   ],
   "source": [
    "m_ap = []\n",
    "for key, value in tqdm(gt_items_test.items()):\n",
    "    row_sparse = make_coo_row(gt_items_train.get(key, [])).tocsr()\n",
    "    recommended_items = model.recommend(int(key - 1), row_sparse, N=30, filter_already_liked_items=False, recalculate_user=False)\n",
    "    m_ap.append(normalized_average_precision(value, recommended_items[0], k=30))\n",
    "print(np.mean(m_ap))"
   ]
  },
  {
   "cell_type": "code",
   "execution_count": 53,
   "id": "f4650926",
   "metadata": {},
   "outputs": [
    {
     "name": "stderr",
     "output_type": "stream",
     "text": [
      "/home/mikefopf/anaconda3/lib/python3.8/site-packages/implicit/utils.py:138: ParameterWarning: Method expects CSR input, and was passed coo_matrix instead. Converting to CSR took 0.003363370895385742 seconds\n",
      "  warnings.warn(\n"
     ]
    },
    {
     "data": {
      "application/vnd.jupyter.widget-view+json": {
       "model_id": "8328ee2eec144e87a9728859e39c9038",
       "version_major": 2,
       "version_minor": 0
      },
      "text/plain": [
       "  0%|          | 0/18495 [00:00<?, ?it/s]"
      ]
     },
     "metadata": {},
     "output_type": "display_data"
    }
   ],
   "source": [
    "model = implicit.nearest_neighbours.CosineRecommender(K=3)\n",
    "model.fit(X_sparse)"
   ]
  },
  {
   "cell_type": "code",
   "execution_count": 54,
   "id": "94287590",
   "metadata": {},
   "outputs": [
    {
     "name": "stderr",
     "output_type": "stream",
     "text": [
      "100%|███████████████████████████████████| 20363/20363 [00:03<00:00, 5223.66it/s]"
     ]
    },
    {
     "name": "stdout",
     "output_type": "stream",
     "text": [
      "0.027595435181740343\n"
     ]
    },
    {
     "name": "stderr",
     "output_type": "stream",
     "text": [
      "\n"
     ]
    }
   ],
   "source": [
    "m_ap = []\n",
    "for key, value in tqdm(gt_items_test.items()):\n",
    "    row_sparse = make_coo_row(gt_items_train.get(key, [])).tocsr()\n",
    "    recommended_items = model.recommend(int(key - 1), row_sparse, N=30, filter_already_liked_items=True, recalculate_user=False)\n",
    "    m_ap.append(normalized_average_precision(value, recommended_items[0], k=30))\n",
    "print(np.mean(m_ap))"
   ]
  },
  {
   "cell_type": "code",
   "execution_count": null,
   "id": "2c00a12e",
   "metadata": {},
   "outputs": [],
   "source": []
  }
 ],
 "metadata": {
  "kernelspec": {
   "display_name": "Python 3 (ipykernel)",
   "language": "python",
   "name": "python3"
  },
  "language_info": {
   "codemirror_mode": {
    "name": "ipython",
    "version": 3
   },
   "file_extension": ".py",
   "mimetype": "text/x-python",
   "name": "python",
   "nbconvert_exporter": "python",
   "pygments_lexer": "ipython3",
   "version": "3.8.8"
  }
 },
 "nbformat": 4,
 "nbformat_minor": 5
}
